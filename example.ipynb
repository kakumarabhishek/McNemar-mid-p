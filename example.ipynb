{
 "cells": [
  {
   "cell_type": "code",
   "execution_count": 1,
   "metadata": {},
   "outputs": [],
   "source": [
    "import numpy as np\n",
    "from pathlib import Path\n",
    "\n",
    "from mcnemar import mcnemar_test, statsmodels_mcnemar"
   ]
  },
  {
   "cell_type": "code",
   "execution_count": 2,
   "metadata": {},
   "outputs": [],
   "source": [
    "preds_dir = Path(\"./sample_predictions/\")"
   ]
  },
  {
   "cell_type": "code",
   "execution_count": 3,
   "metadata": {},
   "outputs": [],
   "source": [
    "preds1 = np.genfromtxt(preds_dir / \"model_1_predictions.csv\", delimiter=\"\\n\")\n",
    "preds2 = np.genfromtxt(preds_dir / \"model_2_predictions.csv\", delimiter=\"\\n\")\n",
    "gts = np.genfromtxt(preds_dir / \"ground_truth_labels.csv\", delimiter=\"\\n\")"
   ]
  },
  {
   "cell_type": "code",
   "execution_count": 4,
   "metadata": {},
   "outputs": [
    {
     "name": "stdout",
     "output_type": "stream",
     "text": [
      "0.02430651\n"
     ]
    }
   ],
   "source": [
    "# statsmodels' exact McNemar test.\n",
    "print(f\"{statsmodels_mcnemar(preds1, preds2, gts):.8f}\")"
   ]
  },
  {
   "cell_type": "code",
   "execution_count": 5,
   "metadata": {},
   "outputs": [
    {
     "name": "stdout",
     "output_type": "stream",
     "text": [
      "0.02430651\n"
     ]
    }
   ],
   "source": [
    "# Our exact McNemar test implementation.\n",
    "print(f\"{mcnemar_test(preds1, preds2, gts, 'exact'):.8f}\")"
   ]
  },
  {
   "cell_type": "code",
   "execution_count": 6,
   "metadata": {},
   "outputs": [
    {
     "name": "stdout",
     "output_type": "stream",
     "text": [
      "0.01667385\n"
     ]
    }
   ],
   "source": [
    "# Our mid-p McNemar test implementation.\n",
    "print(f\"{mcnemar_test(preds1, preds2, gts, 'mid-p'):.8f}\")"
   ]
  },
  {
   "cell_type": "markdown",
   "metadata": {},
   "source": [
    "The mid-p McNemar test's output can be verified to be the same as achieved using the following MATLAB code.\n",
    "\n",
    "```\n",
    ">> preds1 = csvread(\"sample_predictions/model_1_predictions.csv\");\n",
    ">> preds2 = csvread(\"sample_predictions/model_2_predictions.csv\");\n",
    ">> gts = csvread(\"sample_predictions/ground_truth_labels.csv\");\n",
    "\n",
    ">> [h, p, e1, e2] = testcholdout(preds1, preds2, gts);\n",
    ">> fprintf(\"%.8e\", p);\n",
    "1.66738478e-02\n",
    "```"
   ]
  },
  {
   "cell_type": "markdown",
   "metadata": {},
   "source": []
  }
 ],
 "metadata": {
  "kernelspec": {
   "display_name": "monai",
   "language": "python",
   "name": "python3"
  },
  "language_info": {
   "codemirror_mode": {
    "name": "ipython",
    "version": 3
   },
   "file_extension": ".py",
   "mimetype": "text/x-python",
   "name": "python",
   "nbconvert_exporter": "python",
   "pygments_lexer": "ipython3",
   "version": "3.10.9"
  },
  "orig_nbformat": 4
 },
 "nbformat": 4,
 "nbformat_minor": 2
}
